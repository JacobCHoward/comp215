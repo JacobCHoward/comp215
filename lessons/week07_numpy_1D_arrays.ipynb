{
  "cells": [
    {
      "cell_type": "markdown",
      "metadata": {
        "id": "view-in-github",
        "colab_type": "text"
      },
      "source": [
        "<a href=\"https://colab.research.google.com/github/Hamilton-at-CapU/comp215/blob/main/lessons/week07_numpy_1D_arrays.ipynb\" target=\"_parent\"><img src=\"https://colab.research.google.com/assets/colab-badge.svg\" alt=\"Open In Colab\"/></a>"
      ]
    },
    {
      "cell_type": "markdown",
      "metadata": {
        "collapsed": true,
        "pycharm": {
          "name": "#%% md\n"
        },
        "id": "G8H_QZ26_0pr"
      },
      "source": [
        "# numpy:  1D array (vector) operations\n",
        "[numpy array](https://numpy.org/doc/stable/reference/arrays.html) objects come with very powerful built-in vector operations.\n",
        "These allow you to perform an operation on every element of the vector without any explicit iteration. E.g.,\n",
        " - simple map operations (to map one vector onto another the same size) using python's math operators\n",
        " - vector x scalar and vector x vector operations using math operators\n",
        " - create a boolean vector using comparison operators;\n",
        " - vector indexing and powerful vector filtering operations using python's indexing operator, $[ ]$\n",
        "\n",
        "This makes for very concise and efficient code, but the code is a bit deceptive because unless you are cognizant that a variable refers to a numpy array, there is often no clue that a vector operation is being performed.  Let's look at some examples...\n"
      ]
    },
    {
      "cell_type": "code",
      "execution_count": null,
      "outputs": [],
      "source": [
        "import numpy as np"
      ],
      "metadata": {
        "pycharm": {
          "name": "#%%\n"
        },
        "ExecuteTime": {
          "end_time": "2024-01-02T07:29:01.781891Z",
          "start_time": "2024-01-02T07:29:01.766428Z"
        },
        "id": "XFt4scT6_0ps"
      }
    },
    {
      "cell_type": "markdown",
      "source": [
        "## Create a 1D array\n",
        " * simple: define it using a list or tuple or any other sequence type (but not a generator!);\n",
        " * general: define it by supplying its length;\n",
        " * random: filled with random values;\n",
        "Notice that in some way we must always pre-define the vector's length."
      ],
      "metadata": {
        "collapsed": false,
        "pycharm": {
          "name": "#%% md\n"
        },
        "id": "N27-nsHt_0ps"
      }
    },
    {
      "cell_type": "code",
      "execution_count": null,
      "outputs": [
        {
          "data": {
            "text/plain": "(array([9, 8, 7, 6, 5, 4, 3, 2, 1]),\n array([1, 1, 1, 1, 1, 1, 1, 1, 1], dtype=uint8),\n array([1, 1, 0, 1, 0, 1, 1, 1, 1], dtype=uint8))"
          },
          "execution_count": 11,
          "metadata": {},
          "output_type": "execute_result"
        }
      ],
      "source": [
        "vector = np.array([9, 8, 7, 6, 5, 4, 3, 2, 1])\n",
        "\n",
        "ones = np.ones(9, dtype='uint8')\n",
        "rand = np.random.randint(2, size=9, dtype='uint8')\n",
        "vector, ones, rand"
      ],
      "metadata": {
        "pycharm": {
          "name": "#%%\n"
        },
        "ExecuteTime": {
          "end_time": "2024-01-02T07:29:01.782201Z",
          "start_time": "2024-01-02T07:29:01.773101Z"
        },
        "id": "gl2PLkSW_0ps",
        "outputId": "d0e6c643-ed21-46bc-f9b8-d4854551622d"
      }
    },
    {
      "cell_type": "markdown",
      "source": [
        "## Vector x Scalar operations\n",
        "numpy array class defines all math and comparison operators.\n",
        "Confusion arises here b/c the code itself does not indicate there is a vector operation being done - you have to know!"
      ],
      "metadata": {
        "collapsed": false,
        "pycharm": {
          "name": "#%% md\n"
        },
        "id": "7Dnn7aM-_0pt"
      }
    },
    {
      "cell_type": "code",
      "execution_count": null,
      "outputs": [
        {
          "data": {
            "text/plain": "(array([18, 16, 14, 12, 10,  8,  6,  4,  2]),\n array([2, 2, 2, 2, 2, 2, 2, 2, 2], dtype=uint8),\n array([ True,  True, False,  True, False,  True,  True,  True,  True]))"
          },
          "execution_count": 12,
          "metadata": {},
          "output_type": "execute_result"
        }
      ],
      "source": [
        "double = vector * 2\n",
        "twos = ones + 1\n",
        "alive = rand == 1\n",
        "double, twos, alive"
      ],
      "metadata": {
        "pycharm": {
          "name": "#%%\n"
        },
        "ExecuteTime": {
          "end_time": "2024-01-02T07:29:01.782407Z",
          "start_time": "2024-01-02T07:29:01.775947Z"
        },
        "id": "hUwNWoes_0pt",
        "outputId": "68f39798-3103-4a4a-f714-e3872fc56c40"
      }
    },
    {
      "cell_type": "markdown",
      "source": [
        "## Vector x Vector operations\n",
        "All operators also work when both arguments are arrays, in this case operations are done pair-wise on matching elements.\n",
        "The 2 arrays must have the same dimensions!"
      ],
      "metadata": {
        "collapsed": false,
        "pycharm": {
          "name": "#%% md\n"
        },
        "id": "WYu2gn59_0pt"
      }
    },
    {
      "cell_type": "code",
      "execution_count": null,
      "outputs": [
        {
          "data": {
            "text/plain": "(array([81, 64, 49, 36, 25, 16,  9,  4,  1]),\n array([3, 3, 3, 3, 3, 3, 3, 3, 3], dtype=uint8),\n array([9, 8, 0, 6, 0, 4, 3, 2, 1]))"
          },
          "execution_count": 13,
          "metadata": {},
          "output_type": "execute_result"
        }
      ],
      "source": [
        "squares = vector * vector\n",
        "threes = ones + twos\n",
        "filtered = rand * vector\n",
        "squares, threes, filtered"
      ],
      "metadata": {
        "pycharm": {
          "name": "#%%\n"
        },
        "ExecuteTime": {
          "end_time": "2024-01-02T07:29:01.791085Z",
          "start_time": "2024-01-02T07:29:01.785179Z"
        },
        "id": "dY2eYu1b_0pt",
        "outputId": "fac5c5e8-c8bf-4201-e3fc-c0bb77c07741"
      }
    },
    {
      "cell_type": "markdown",
      "source": [
        "## Logical operators\n",
        "numpy does not re-define python's built-in logical operators `and`, `or`, `not`\n",
        "But it does define the \"bitwise\" operators, bitwise and `&`, bitwise or `|` and bitwise not '~'.\n",
        "With care, these can be used to implement whole-matrix logical operations...\n",
        "**Tips**: both operands should by `bool` or `0`/`1` valued arrays (or you better really understand bitwise operators!).\n",
        "     Watch your precedence -- bitwise operators are very low precedence!"
      ],
      "metadata": {
        "collapsed": false,
        "pycharm": {
          "name": "#%% md\n"
        },
        "id": "EqHq0UsZ_0pt"
      }
    },
    {
      "cell_type": "code",
      "execution_count": null,
      "outputs": [
        {
          "name": "stdout",
          "output_type": "stream",
          "text": [
            "Error: The truth value of an array with more than one element is ambiguous. Use a.any() or a.all()\n"
          ]
        },
        {
          "data": {
            "text/plain": "(array([ True,  True, False,  True, False,  True,  True,  True,  True]),\n array([ True, False, False, False, False, False,  True, False,  True]),\n array([ True,  True, False,  True, False, False, False, False, False]),\n array([False, False,  True, False,  True, False, False, False, False]))"
          },
          "execution_count": 14,
          "metadata": {},
          "output_type": "execute_result"
        }
      ],
      "source": [
        "try:\n",
        "    ones and twos  # can't use built-in logical operators on arrays!\n",
        "except ValueError as e:\n",
        "    print('Error:', e)\n",
        "\n",
        "# Use \"bit-wise\" operators with care - only on `bool` or binary (0/1) valued arrays!\n",
        "fitlered2 = alive & vector!=0\n",
        "big_and_alive = (vector > 5) & alive\n",
        "not_alive = ~alive\n",
        "alive, fitlered2, big_and_alive, not_alive"
      ],
      "metadata": {
        "pycharm": {
          "name": "#%%\n"
        },
        "ExecuteTime": {
          "end_time": "2024-01-02T07:29:01.800338Z",
          "start_time": "2024-01-02T07:29:01.789462Z"
        },
        "id": "6nqfIrZ5_0pt",
        "outputId": "f6fa7cbd-1401-4a86-9c14-b6ecec620624"
      }
    },
    {
      "cell_type": "markdown",
      "source": [
        "## Vector indexing\n",
        "Perhaps one of the most powerful numpy array operations is the ability to use the values of one array as indexes to lookup values in another array.\n",
        "For this operation the arrays can be different sizes and shapes, but you need to be clear about which array is the lookup table and which is the indexes!"
      ],
      "metadata": {
        "collapsed": false,
        "pycharm": {
          "name": "#%% md\n"
        },
        "id": "dxXY5ST-_0pt"
      }
    },
    {
      "cell_type": "code",
      "execution_count": null,
      "outputs": [
        {
          "data": {
            "text/plain": "(array([ 7,  3, 11,  1,  2,  4,  2,  2,  3]),\n array(['Jul', 'Mar', 'Nov', 'Jan', 'Feb', 'Apr', 'Feb', 'Feb', 'Mar'],\n       dtype='<U3'))"
          },
          "execution_count": 15,
          "metadata": {},
          "output_type": "execute_result"
        }
      ],
      "source": [
        "month_names = np.array(['Jan', 'Feb', 'Mar', 'Apr', 'May', 'Jun', 'Jul', 'Aug', 'Sep', 'Oct', 'Nov', 'Dec'])\n",
        "month_nums = np.random.randint(low=1, high=12, size=9)\n",
        "month_nums, month_names[month_nums-1]"
      ],
      "metadata": {
        "pycharm": {
          "name": "#%%\n"
        },
        "ExecuteTime": {
          "end_time": "2024-01-02T07:29:01.827891Z",
          "start_time": "2024-01-02T07:29:01.793951Z"
        },
        "id": "g7hSFaTJ_0pt",
        "outputId": "eab11cdb-6808-44b1-baea-4378ab2167a7"
      }
    },
    {
      "cell_type": "markdown",
      "source": [
        "### Filter with Boolean indexes\n",
        "By using an array of booleans, you can filter out a set of elements from another array with the same shape."
      ],
      "metadata": {
        "collapsed": false,
        "pycharm": {
          "name": "#%% md\n"
        },
        "id": "Wsyx32gb_0pt"
      }
    },
    {
      "cell_type": "code",
      "execution_count": null,
      "outputs": [
        {
          "data": {
            "text/plain": "(array([81, 64, 49, 36, 25, 16,  9,  4,  1]),\n array([64, 36, 16,  4]),\n array([81, 64, 36, 16,  9,  4,  1]))"
          },
          "execution_count": 16,
          "metadata": {},
          "output_type": "execute_result"
        }
      ],
      "source": [
        "even_squares = squares[squares%2==0]\n",
        "squares, even_squares, squares[alive]"
      ],
      "metadata": {
        "pycharm": {
          "name": "#%%\n"
        },
        "ExecuteTime": {
          "end_time": "2024-01-02T07:29:01.828109Z",
          "start_time": "2024-01-02T07:29:01.797712Z"
        },
        "id": "L0IkPw-E_0pt",
        "outputId": "09a72e1a-2cae-4618-95a6-a0d27a08557d"
      }
    },
    {
      "cell_type": "markdown",
      "source": [
        "Notice you get back a 1D array of filtered elements.  These can act as references back to elements in the original array.\n",
        "This allows us to use a scalar assignment to update elements of the original vector that meet some criteria ..."
      ],
      "metadata": {
        "collapsed": false,
        "pycharm": {
          "name": "#%% md\n"
        },
        "id": "rco8Dxp1_0pt"
      }
    },
    {
      "cell_type": "code",
      "execution_count": null,
      "outputs": [
        {
          "data": {
            "text/plain": "(array([9, 8, 7, 6, 5, 4, 3, 2, 1]),\n array([ True,  True, False,  True, False,  True,  True,  True,  True]),\n array([9, 8, 0, 6, 0, 4, 3, 2, 1]))"
          },
          "execution_count": 18,
          "metadata": {},
          "output_type": "execute_result"
        }
      ],
      "source": [
        "vec_copy = vector.copy()\n",
        "vec_copy[~alive] = 0\n",
        "vector, alive, vec_copy"
      ],
      "metadata": {
        "pycharm": {
          "name": "#%%\n"
        },
        "ExecuteTime": {
          "end_time": "2024-01-02T07:31:04.062369Z",
          "start_time": "2024-01-02T07:31:04.048765Z"
        },
        "id": "DgebT3mw_0pt",
        "outputId": "abb56e43-b033-48df-f15d-b63663952042"
      }
    },
    {
      "cell_type": "code",
      "execution_count": null,
      "outputs": [],
      "source": [],
      "metadata": {
        "pycharm": {
          "name": "#%%\n"
        },
        "ExecuteTime": {
          "end_time": "2024-01-02T07:29:01.828603Z",
          "start_time": "2024-01-02T07:29:01.804396Z"
        },
        "id": "85-JGbln_0pt"
      }
    }
  ],
  "metadata": {
    "kernelspec": {
      "display_name": "Python 3",
      "language": "python",
      "name": "python3"
    },
    "language_info": {
      "codemirror_mode": {
        "name": "ipython",
        "version": 2
      },
      "file_extension": ".py",
      "mimetype": "text/x-python",
      "name": "python",
      "nbconvert_exporter": "python",
      "pygments_lexer": "ipython2",
      "version": "2.7.6"
    },
    "colab": {
      "provenance": [],
      "include_colab_link": true
    }
  },
  "nbformat": 4,
  "nbformat_minor": 0
}
